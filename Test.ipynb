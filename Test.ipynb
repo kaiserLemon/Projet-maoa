{
 "cells": [
  {
   "cell_type": "code",
   "execution_count": 1,
   "metadata": {},
   "outputs": [],
   "source": [
    "from utils import *\n",
    "from heuristique_glouton import *"
   ]
  },
  {
   "cell_type": "code",
   "execution_count": 2,
   "metadata": {},
   "outputs": [],
   "source": [
    "df_ville,df_object,capacity=parse_ttp_file(\"a280_n1395_uncorr-similar-weights_05.ttp\")"
   ]
  },
  {
   "cell_type": "code",
   "execution_count": 3,
   "metadata": {},
   "outputs": [
    {
     "data": {
      "text/html": [
       "<div>\n",
       "<style scoped>\n",
       "    .dataframe tbody tr th:only-of-type {\n",
       "        vertical-align: middle;\n",
       "    }\n",
       "\n",
       "    .dataframe tbody tr th {\n",
       "        vertical-align: top;\n",
       "    }\n",
       "\n",
       "    .dataframe thead th {\n",
       "        text-align: right;\n",
       "    }\n",
       "</style>\n",
       "<table border=\"1\" class=\"dataframe\">\n",
       "  <thead>\n",
       "    <tr style=\"text-align: right;\">\n",
       "      <th></th>\n",
       "      <th>X</th>\n",
       "      <th>Y</th>\n",
       "    </tr>\n",
       "  </thead>\n",
       "  <tbody>\n",
       "    <tr>\n",
       "      <th>1</th>\n",
       "      <td>288</td>\n",
       "      <td>149</td>\n",
       "    </tr>\n",
       "    <tr>\n",
       "      <th>2</th>\n",
       "      <td>288</td>\n",
       "      <td>129</td>\n",
       "    </tr>\n",
       "    <tr>\n",
       "      <th>3</th>\n",
       "      <td>270</td>\n",
       "      <td>133</td>\n",
       "    </tr>\n",
       "    <tr>\n",
       "      <th>4</th>\n",
       "      <td>256</td>\n",
       "      <td>141</td>\n",
       "    </tr>\n",
       "    <tr>\n",
       "      <th>5</th>\n",
       "      <td>256</td>\n",
       "      <td>157</td>\n",
       "    </tr>\n",
       "    <tr>\n",
       "      <th>...</th>\n",
       "      <td>...</td>\n",
       "      <td>...</td>\n",
       "    </tr>\n",
       "    <tr>\n",
       "      <th>276</th>\n",
       "      <td>236</td>\n",
       "      <td>145</td>\n",
       "    </tr>\n",
       "    <tr>\n",
       "      <th>277</th>\n",
       "      <td>246</td>\n",
       "      <td>141</td>\n",
       "    </tr>\n",
       "    <tr>\n",
       "      <th>278</th>\n",
       "      <td>252</td>\n",
       "      <td>125</td>\n",
       "    </tr>\n",
       "    <tr>\n",
       "      <th>279</th>\n",
       "      <td>260</td>\n",
       "      <td>129</td>\n",
       "    </tr>\n",
       "    <tr>\n",
       "      <th>280</th>\n",
       "      <td>280</td>\n",
       "      <td>133</td>\n",
       "    </tr>\n",
       "  </tbody>\n",
       "</table>\n",
       "<p>280 rows × 2 columns</p>\n",
       "</div>"
      ],
      "text/plain": [
       "       X    Y\n",
       "1    288  149\n",
       "2    288  129\n",
       "3    270  133\n",
       "4    256  141\n",
       "5    256  157\n",
       "..   ...  ...\n",
       "276  236  145\n",
       "277  246  141\n",
       "278  252  125\n",
       "279  260  129\n",
       "280  280  133\n",
       "\n",
       "[280 rows x 2 columns]"
      ]
     },
     "execution_count": 3,
     "metadata": {},
     "output_type": "execute_result"
    }
   ],
   "source": [
    "df_ville"
   ]
  },
  {
   "cell_type": "code",
   "execution_count": 4,
   "metadata": {},
   "outputs": [
    {
     "data": {
      "text/html": [
       "<div>\n",
       "<style scoped>\n",
       "    .dataframe tbody tr th:only-of-type {\n",
       "        vertical-align: middle;\n",
       "    }\n",
       "\n",
       "    .dataframe tbody tr th {\n",
       "        vertical-align: top;\n",
       "    }\n",
       "\n",
       "    .dataframe thead th {\n",
       "        text-align: right;\n",
       "    }\n",
       "</style>\n",
       "<table border=\"1\" class=\"dataframe\">\n",
       "  <thead>\n",
       "    <tr style=\"text-align: right;\">\n",
       "      <th></th>\n",
       "      <th>Profit</th>\n",
       "      <th>Weight</th>\n",
       "      <th>City_Index</th>\n",
       "    </tr>\n",
       "  </thead>\n",
       "  <tbody>\n",
       "    <tr>\n",
       "      <th>1</th>\n",
       "      <td>1</td>\n",
       "      <td>1008</td>\n",
       "      <td>2</td>\n",
       "    </tr>\n",
       "    <tr>\n",
       "      <th>2</th>\n",
       "      <td>896</td>\n",
       "      <td>1006</td>\n",
       "      <td>3</td>\n",
       "    </tr>\n",
       "    <tr>\n",
       "      <th>3</th>\n",
       "      <td>367</td>\n",
       "      <td>1006</td>\n",
       "      <td>4</td>\n",
       "    </tr>\n",
       "    <tr>\n",
       "      <th>4</th>\n",
       "      <td>690</td>\n",
       "      <td>1001</td>\n",
       "      <td>5</td>\n",
       "    </tr>\n",
       "    <tr>\n",
       "      <th>5</th>\n",
       "      <td>613</td>\n",
       "      <td>1006</td>\n",
       "      <td>6</td>\n",
       "    </tr>\n",
       "    <tr>\n",
       "      <th>...</th>\n",
       "      <td>...</td>\n",
       "      <td>...</td>\n",
       "      <td>...</td>\n",
       "    </tr>\n",
       "    <tr>\n",
       "      <th>1391</th>\n",
       "      <td>882</td>\n",
       "      <td>1007</td>\n",
       "      <td>276</td>\n",
       "    </tr>\n",
       "    <tr>\n",
       "      <th>1392</th>\n",
       "      <td>755</td>\n",
       "      <td>1002</td>\n",
       "      <td>277</td>\n",
       "    </tr>\n",
       "    <tr>\n",
       "      <th>1393</th>\n",
       "      <td>486</td>\n",
       "      <td>1009</td>\n",
       "      <td>278</td>\n",
       "    </tr>\n",
       "    <tr>\n",
       "      <th>1394</th>\n",
       "      <td>485</td>\n",
       "      <td>1008</td>\n",
       "      <td>279</td>\n",
       "    </tr>\n",
       "    <tr>\n",
       "      <th>1395</th>\n",
       "      <td>721</td>\n",
       "      <td>1000</td>\n",
       "      <td>280</td>\n",
       "    </tr>\n",
       "  </tbody>\n",
       "</table>\n",
       "<p>1395 rows × 3 columns</p>\n",
       "</div>"
      ],
      "text/plain": [
       "      Profit  Weight  City_Index\n",
       "1          1    1008           2\n",
       "2        896    1006           3\n",
       "3        367    1006           4\n",
       "4        690    1001           5\n",
       "5        613    1006           6\n",
       "...      ...     ...         ...\n",
       "1391     882    1007         276\n",
       "1392     755    1002         277\n",
       "1393     486    1009         278\n",
       "1394     485    1008         279\n",
       "1395     721    1000         280\n",
       "\n",
       "[1395 rows x 3 columns]"
      ]
     },
     "execution_count": 4,
     "metadata": {},
     "output_type": "execute_result"
    }
   ],
   "source": [
    "df_object"
   ]
  },
  {
   "cell_type": "code",
   "execution_count": 5,
   "metadata": {},
   "outputs": [],
   "source": [
    "pi,obj_pris,poids_tot,dict_ville_objet_pris=algo_glouton(df_ville,df_object,capacity)"
   ]
  },
  {
   "cell_type": "code",
   "execution_count": 6,
   "metadata": {},
   "outputs": [],
   "source": [
    "def eval_non_lin(pi,df_ville,df_object,dict_ville_objet_pris):\n",
    "    v_max=1\n",
    "    v_min=0.1\n",
    "    w=(v_max-v_min)/capacity\n",
    "    benefice=0\n",
    "    for i in range(len(list(df_object.index))):\n",
    "        benefice=benefice+df_object.iloc[i][\"Profit\"]*obj_pris[i]\n",
    "\n",
    "    cout=0\n",
    "    poids=0\n",
    "    for i in range(1,len(pi)):\n",
    "        distance=calcul_distance_de_ville(pi[i-1],df_ville)[pi[i]]\n",
    "        cout=cout+distance/(v_max-poids*w)\n",
    "        list_objet_i_pris=dict_ville_objet_pris[pi[i]]\n",
    "        for index in list_objet_i_pris:\n",
    "            poids=poids+df_object.iloc[index-1][\"Weight\"]\n",
    "\n",
    "    distance=calcul_distance_de_ville(pi[-1],df_ville)[1]\n",
    "\n",
    "    cout=cout+distance/(v_max-poids*w)\n",
    "\n",
    "\n",
    "    return benefice-cout"
   ]
  },
  {
   "cell_type": "code",
   "execution_count": 7,
   "metadata": {},
   "outputs": [
    {
     "data": {
      "text/plain": [
       "459875.09188327176"
      ]
     },
     "execution_count": 7,
     "metadata": {},
     "output_type": "execute_result"
    }
   ],
   "source": [
    "eval_non_lin(pi,df_ville,df_object,dict_ville_objet_pris)"
   ]
  },
  {
   "cell_type": "code",
   "execution_count": 8,
   "metadata": {},
   "outputs": [],
   "source": [
    "def eval_lin(pi,df_ville,df_object,dict_ville_objet_pris):\n",
    "    benefice=0\n",
    "    for i in range(len(list(df_object.index))):\n",
    "        benefice=benefice+df_object.iloc[i][\"Profit\"]*obj_pris[i]\n",
    "\n",
    "    cout=0\n",
    "    poids=0\n",
    "    for i in range(1,len(pi)):\n",
    "        distance=calcul_distance_de_ville(pi[i-1],df_ville)[pi[i]]\n",
    "        cout=cout+distance*poids\n",
    "        list_objet_i_pris=dict_ville_objet_pris[pi[i]]\n",
    "        for index in list_objet_i_pris:\n",
    "            poids=poids+df_object.iloc[index-1][\"Weight\"]\n",
    "\n",
    "    distance=calcul_distance_de_ville(pi[-1],df_ville)[1]\n",
    "\n",
    "    cout=cout+distance*poids\n",
    "\n",
    "\n",
    "    return benefice-cout"
   ]
  },
  {
   "cell_type": "code",
   "execution_count": 9,
   "metadata": {},
   "outputs": [
    {
     "data": {
      "text/plain": [
       "-838559416.8966159"
      ]
     },
     "execution_count": 9,
     "metadata": {},
     "output_type": "execute_result"
    }
   ],
   "source": [
    "eval_lin(pi,df_ville,df_object,dict_ville_objet_pris)"
   ]
  }
 ],
 "metadata": {
  "kernelspec": {
   "display_name": "Python 3",
   "language": "python",
   "name": "python3"
  },
  "language_info": {
   "codemirror_mode": {
    "name": "ipython",
    "version": 3
   },
   "file_extension": ".py",
   "mimetype": "text/x-python",
   "name": "python",
   "nbconvert_exporter": "python",
   "pygments_lexer": "ipython3",
   "version": "3.10.11"
  }
 },
 "nbformat": 4,
 "nbformat_minor": 2
}
